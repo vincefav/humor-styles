{
 "cells": [
  {
   "cell_type": "code",
   "execution_count": 1,
   "metadata": {
    "collapsed": false
   },
   "outputs": [
    {
     "name": "stdout",
     "output_type": "stream",
     "text": [
      "Populating the interactive namespace from numpy and matplotlib\n"
     ]
    }
   ],
   "source": [
    "import pandas as pd\n",
    "import numpy as np\n",
    "import matplotlib.pyplot as plt\n",
    "from xgboost import XGBClassifier, XGBRegressor\n",
    "import seaborn as sns\n",
    "sns.set_style(\"dark\")\n",
    "\n",
    "from sklearn.model_selection import train_test_split, cross_val_score, GridSearchCV\n",
    "from sklearn.metrics import roc_auc_score\n",
    "from sklearn.preprocessing import LabelBinarizer\n",
    "\n",
    "%pylab inline\n",
    "data=None\n",
    "def absolute_correlations(col, df=data):\n",
    "    #absolute_values = np.abs(df[col])\n",
    "    corrs = pd.DataFrame(df.select_dtypes(include=[np.number]).corrwith(df[col]), columns=['correlation'])\n",
    "    corrs['absol'] = np.abs(corrs['correlation'])\n",
    "    return corrs.sort_values('absol', ascending=False).drop('absol', axis=1).tail(len(corrs)-1)"
   ]
  },
  {
   "cell_type": "code",
   "execution_count": 2,
   "metadata": {
    "collapsed": false
   },
   "outputs": [
    {
     "data": {
      "text/plain": [
       "(623, 39)"
      ]
     },
     "execution_count": 2,
     "metadata": {},
     "output_type": "execute_result"
    }
   ],
   "source": [
    "data = pd.read_csv('data_cleaned.csv')\n",
    "del data['Unnamed: 0']\n",
    "\n",
    "# Use only good data\n",
    "\n",
    "# Users could enter any number for age, so let's remove the jokers\n",
    "data = data[data['age'] < 71]\n",
    "\n",
    "# Simplify genders down to two, for convenience\n",
    "data = data[(data['gender'] < 3) & (data['gender'] > 0)]\n",
    "lbl = LabelBinarizer()\n",
    "data['gender'] = lbl.fit_transform(data['gender']).flatten()\n",
    "\n",
    "# Those who found the results accurate\n",
    "data = data[data.accuracy >= 90]\n",
    "\n",
    "# 962 rows, 39 features\n",
    "data.shape"
   ]
  },
  {
   "cell_type": "code",
   "execution_count": 3,
   "metadata": {
    "collapsed": false
   },
   "outputs": [
    {
     "data": {
      "text/plain": [
       "<matplotlib.axes._subplots.AxesSubplot at 0x240512fe3c8>"
      ]
     },
     "execution_count": 3,
     "metadata": {},
     "output_type": "execute_result"
    },
    {
     "data": {
      "image/png": "[encoded data removed]",
      "text/plain": [
       "<matplotlib.figure.Figure at 0x240512f7940>"
      ]
     },
     "metadata": {},
     "output_type": "display_data"
    }
   ],
   "source": [
    "data['age'].hist(edgecolor='black')"
   ]
  },
  {
   "cell_type": "code",
   "execution_count": 4,
   "metadata": {
    "collapsed": false
   },
   "outputs": [
    {
     "data": {
      "text/plain": [
       "<matplotlib.axes._subplots.AxesSubplot at 0x2406421c518>"
      ]
     },
     "execution_count": 4,
     "metadata": {},
     "output_type": "execute_result"
    },
    {
     "data": {
      "image/png": "[encoded data removed]",
      "text/plain": [
       "<matplotlib.figure.Figure at 0x240512f78d0>"
      ]
     },
     "metadata": {},
     "output_type": "display_data"
    }
   ],
   "source": [
    "data['gender'].value_counts().plot.bar(edgecolor='black')"
   ]
  },
  {
   "cell_type": "code",
   "execution_count": 5,
   "metadata": {
    "collapsed": false
   },
   "outputs": [
    {
     "data": {
      "text/plain": [
       "<matplotlib.axes._subplots.AxesSubplot at 0x2406429b9b0>"
      ]
     },
     "execution_count": 5,
     "metadata": {},
     "output_type": "execute_result"
    },
    {
     "data": {
      "image/png": "[encoded data removed]",
      "text/plain": [
       "<matplotlib.figure.Figure at 0x240642f9dd8>"
      ]
     },
     "metadata": {},
     "output_type": "display_data"
    }
   ],
   "source": [
    "data['accuracy'].hist(edgecolor='black', bins=4)"
   ]
  },
  {
   "cell_type": "markdown",
   "metadata": {},
   "source": [
    "# Male vs female humor"
   ]
  },
  {
   "cell_type": "code",
   "execution_count": 6,
   "metadata": {
    "collapsed": false
   },
   "outputs": [
    {
     "data": {
      "text/plain": [
       "(array([0, 1, 2, 3]), <a list of 4 Text xticklabel objects>)"
      ]
     },
     "execution_count": 6,
     "metadata": {},
     "output_type": "execute_result"
    },
    {
     "data": {
      "image/png": "[encoded data removed]",
      "text/plain": [
       "<matplotlib.figure.Figure at 0x240642e0ef0>"
      ]
     },
     "metadata": {},
     "output_type": "display_data"
    }
   ],
   "source": [
    "gender = data.groupby('gender').mean()\n",
    "gender.index = ['female', 'male']\n",
    "\n",
    "gender[['affiliative', 'selfenhancing',\n",
    "        'aggressive', 'selfdefeating']].T.plot.bar(color=['magenta', 'blue'])\n",
    "\n",
    "plt.xticks(rotation=0)"
   ]
  },
  {
   "cell_type": "markdown",
   "metadata": {},
   "source": [
    "Men and women actually don't differ *that* much!"
   ]
  },
  {
   "cell_type": "markdown",
   "metadata": {},
   "source": [
    "# Humor by age\n",
    "\n",
    "## Men"
   ]
  },
  {
   "cell_type": "code",
   "execution_count": 7,
   "metadata": {
    "collapsed": false
   },
   "outputs": [
    {
     "data": {
      "text/plain": [
       "<matplotlib.legend.Legend at 0x240644224e0>"
      ]
     },
     "execution_count": 7,
     "metadata": {},
     "output_type": "execute_result"
    },
    {
     "data": {
      "image/png": "[encoded data removed]",
      "text/plain": [
       "<matplotlib.figure.Figure at 0x2406442bbe0>"
      ]
     },
     "metadata": {},
     "output_type": "display_data"
    }
   ],
   "source": [
    "bins = np.arange(data.age.min()+1, data.age.max()+1, 10)\n",
    "data['age_group'] = pd.Series(pd.cut(data['age'], bins=bins))\n",
    "\n",
    "age = data[data['gender'] == 1].groupby('age_group').mean()\n",
    "\n",
    "age[['affiliative', 'selfenhancing',\n",
    "        'aggressive', 'selfdefeating']].plot(linewidth=5)\n",
    "\n",
    "plt.title('Men')\n",
    "pylab.legend(loc=9, bbox_to_anchor=(0.5, -.2))"
   ]
  },
  {
   "cell_type": "markdown",
   "metadata": {},
   "source": [
    "Let's look at whether do in fact become more affiliative as they get older. We'll compare the lowest score to the highest score."
   ]
  },
  {
   "cell_type": "code",
   "execution_count": 8,
   "metadata": {
    "collapsed": false
   },
   "outputs": [
    {
     "data": {
      "text/plain": [
       "Ttest_indResult(statistic=-1.3600006465338124, pvalue=0.1882524685652196)"
      ]
     },
     "execution_count": 8,
     "metadata": {},
     "output_type": "execute_result"
    }
   ],
   "source": [
    "from scipy.stats import ttest_ind\n",
    "\n",
    "men_age_50 = data[(data.gender == 1) & (data.age_group.astype(str) == '(45, 55]')]['affiliative'].dropna()\n",
    "men_age_60 = data[(data.gender == 1) & (data.age_group.astype(str) == '(55, 65]')]['affiliative'].dropna()\n",
    "\n",
    "ttest_ind(men_age_50, men_age_60)"
   ]
  },
  {
   "cell_type": "markdown",
   "metadata": {},
   "source": [
    "The difference is not statistically significant!\n",
    "\n",
    "Now let's look at women's scores..."
   ]
  },
  {
   "cell_type": "markdown",
   "metadata": {},
   "source": [
    "## Women"
   ]
  },
  {
   "cell_type": "code",
   "execution_count": 9,
   "metadata": {
    "collapsed": false
   },
   "outputs": [
    {
     "data": {
      "text/plain": [
       "<matplotlib.legend.Legend at 0x24064537be0>"
      ]
     },
     "execution_count": 9,
     "metadata": {},
     "output_type": "execute_result"
    },
    {
     "data": {
      "image/png": "[encoded data removed]",
      "text/plain": [
       "<matplotlib.figure.Figure at 0x2406457eb38>"
      ]
     },
     "metadata": {},
     "output_type": "display_data"
    }
   ],
   "source": [
    "bins = np.arange(data.age.min()+1, data.age.max()+1, 10)\n",
    "data['age_group'] = pd.Series(pd.cut(data['age'], bins=bins))\n",
    "\n",
    "age = data[data['gender'] == 0].groupby('age_group').mean()\n",
    "\n",
    "age[['affiliative', 'selfenhancing',\n",
    "        'aggressive', 'selfdefeating']].plot(linewidth=5)\n",
    "\n",
    "plt.title('Women')\n",
    "pylab.legend(loc=9, bbox_to_anchor=(0.5, -.2))"
   ]
  },
  {
   "cell_type": "markdown",
   "metadata": {},
   "source": [
    "Do women really become less affiliative?"
   ]
  },
  {
   "cell_type": "code",
   "execution_count": 10,
   "metadata": {
    "collapsed": false
   },
   "outputs": [
    {
     "data": {
      "text/plain": [
       "Ttest_indResult(statistic=2.0306449689247188, pvalue=0.045743578406467415)"
      ]
     },
     "execution_count": 10,
     "metadata": {},
     "output_type": "execute_result"
    }
   ],
   "source": [
    "from scipy.stats import ttest_ind\n",
    "\n",
    "women_age_30 = data[(data.gender == 0) & (data.age_group.astype(str) == '(25, 35]')]['affiliative'].dropna()\n",
    "women_age_60 = data[(data.gender == 0) & (data.age_group.astype(str) == '(55, 65]')]['affiliative'].dropna()\n",
    "\n",
    "ttest_ind(women_age_30, women_age_60)"
   ]
  },
  {
   "cell_type": "markdown",
   "metadata": {},
   "source": [
    "That's a pretty low p-value. From this data, we would say it's pretty likely -- although more rigorous studies have shown that people actually become more self-effacing and affiliative as they get older.\n",
    "\n",
    "Ah well... lies, damn lies, and statistics."
   ]
  },
  {
   "cell_type": "markdown",
   "metadata": {},
   "source": [
    "# Predicting age\n",
    "\n",
    "For the machine learning tasks, I'm just going to use cross_val_score and not bother with train/test sets. This project is too casual for that!"
   ]
  },
  {
   "cell_type": "code",
   "execution_count": 12,
   "metadata": {
    "collapsed": false
   },
   "outputs": [
    {
     "name": "stdout",
     "output_type": "stream",
     "text": [
      "XGBRegressor(base_score=0.5, booster='gbtree', colsample_bylevel=1,\n",
      "       colsample_bytree=1, gamma=0, learning_rate=0.1, max_delta_step=0,\n",
      "       max_depth=3, min_child_weight=1, missing=None, n_estimators=20,\n",
      "       n_jobs=1, nthread=1, objective='reg:linear', random_state=0,\n",
      "       reg_alpha=0, reg_lambda=1.2000000000000002, scale_pos_weight=1,\n",
      "       seed=0, silent=True, subsample=1) \n",
      "\n",
      "Predicts the age within 8.1 years\n",
      "Std Dev:    0.844513666469\n"
     ]
    }
   ],
   "source": [
    "from xgboost import XGBRegressor\n",
    "\n",
    "x = data.drop(['age', 'age_group'], axis=1)\n",
    "y = data['age']\n",
    "\n",
    "clf = XGBRegressor()\n",
    "params = {'max_depth': [2,3],\n",
    "         'n_estimators': np.arange(10,50,10),\n",
    "         'reg_lambda': np.arange(1.0, 1.31, .1)}\n",
    "\n",
    "grid = GridSearchCV(clf, param_grid=params, cv=3, scoring='neg_mean_absolute_error').fit(x, y)\n",
    "clf = grid.best_estimator_\n",
    "\n",
    "cv = cross_val_score(clf, x, y, cv=4, scoring='neg_mean_absolute_error')\n",
    "\n",
    "print(clf, '\\n')\n",
    "print('Predicts the age within {} years'.format(round(-cv.mean(), 1)))\n",
    "print('Std Dev:   ', cv.std())"
   ]
  },
  {
   "cell_type": "markdown",
   "metadata": {},
   "source": [
    "# Predicting gender"
   ]
  },
  {
   "cell_type": "code",
   "execution_count": 13,
   "metadata": {
    "collapsed": false
   },
   "outputs": [
    {
     "name": "stdout",
     "output_type": "stream",
     "text": [
      "XGBClassifier(base_score=0.5, booster='gbtree', colsample_bylevel=1,\n",
      "       colsample_bytree=1, gamma=0, learning_rate=0.1, max_delta_step=0,\n",
      "       max_depth=5, min_child_weight=1, missing=None, n_estimators=10,\n",
      "       n_jobs=1, nthread=1, objective='binary:logistic', random_state=0,\n",
      "       reg_alpha=0, reg_lambda=1.3000000000000003, scale_pos_weight=1,\n",
      "       seed=0, silent=True, subsample=1) \n",
      "\n",
      "Mean ROC-AUC: 0.612302273904\n",
      "Std Dev:      0.0163993124365\n"
     ]
    }
   ],
   "source": [
    "from xgboost import XGBClassifier\n",
    "\n",
    "x = data.drop(['gender', 'age_group'], axis=1)\n",
    "y = data['gender']\n",
    "\n",
    "clf = XGBClassifier()\n",
    "params = {'max_depth': [2,3,4,5],\n",
    "         'n_estimators': np.arange(10,50,10),\n",
    "         'reg_lambda': np.arange(1.0, 1.91, .1)}\n",
    "\n",
    "grid = GridSearchCV(clf, param_grid=params, cv=3, scoring='roc_auc').fit(x, y)\n",
    "clf = grid.best_estimator_\n",
    "\n",
    "cv = cross_val_score(clf, x, y, cv=4, scoring='roc_auc')\n",
    "\n",
    "print(clf, '\\n')\n",
    "print('Mean ROC-AUC:', cv.mean())\n",
    "print('Std Dev:     ', cv.std())"
   ]
  },
  {
   "cell_type": "markdown",
   "metadata": {},
   "source": [
    "The model does an okay, but not great, job of predicting gender. Male and female humor doesn't differ *that* much."
   ]
  }
 ],
 "metadata": {
  "kernelspec": {
   "display_name": "Python 3",
   "language": "python",
   "name": "python3"
  },
  "language_info": {
   "codemirror_mode": {
    "name": "ipython",
    "version": 3
   },
   "file_extension": ".py",
   "mimetype": "text/x-python",
   "name": "python",
   "nbconvert_exporter": "python",
   "pygments_lexer": "ipython3",
   "version": "3.6.0"
  }
 },
 "nbformat": 4,
 "nbformat_minor": 2
}
